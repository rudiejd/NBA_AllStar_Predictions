{
 "cells": [
  {
   "cell_type": "markdown",
   "metadata": {},
   "source": [
    "# NBA All Star Predictions"
   ]
  },
  {
   "cell_type": "markdown",
   "metadata": {},
   "source": [
    "## Prerequisites"
   ]
  },
  {
   "cell_type": "code",
   "execution_count": 1,
   "metadata": {},
   "outputs": [],
   "source": [
    "import requests\n",
    "import pandas as pd\n",
    "from bs4 import BeautifulSoup\n",
    "import numpy as np\n",
    "from collections import defaultdict\n",
    "import requests\n",
    "from unidecode import unidecode\n",
    "from sklearn import tree\n",
    "from sklearn.model_selection import train_test_split\n",
    "from sklearn.metrics import classification_report\n",
    "from sklearn.model_selection import GridSearchCV, cross_val_score, RandomizedSearchCV\n",
    "from sklearn.linear_model import LogisticRegression\n",
    "from sklearn.ensemble import RandomForestClassifier\n",
    "from sklearn.neural_network import MLPClassifier\n",
    "from sklearn import svm\n",
    "from imblearn.over_sampling import SMOTE, RandomOverSampler, ADASYN\n",
    "from imblearn.under_sampling import RandomUnderSampler, NearMiss, CondensedNearestNeighbour\n",
    "import matplotlib.pyplot as plt\n",
    "import seaborn as sns\n",
    "\n",
    "models = []"
   ]
  },
  {
   "cell_type": "code",
   "execution_count": null,
   "metadata": {},
   "outputs": [],
   "source": [
    "team_table_page = requests.get('https://en.wikipedia.org/wiki/Wikipedia:WikiProject_National_Basketball_Association/National_Basketball_Association_team_abbreviations')\n",
    "soup = BeautifulSoup(team_table_page.text)\n",
    "team_abbr = {}\n",
    "for row in soup.find_all('tr'):\n",
    "    entries = row.find_all('td')\n",
    "    team_abbr[entries[1].text.strip()] = entries[0].text.strip()\n",
    "    \n",
    "team_abbr"
   ]
  },
  {
   "cell_type": "markdown",
   "metadata": {},
   "source": [
    "## Scraping Data from basketball-reference"
   ]
  },
  {
   "cell_type": "code",
   "execution_count": null,
   "metadata": {},
   "outputs": [],
   "source": [
    "# get all season win pcts since 1995\n",
    "wins = {}\n",
    "for year in range(2000, 2021):\n",
    "    team_wins = {}\n",
    "    win_html = requests.get(\"https://www.basketball-reference.com/leagues/NBA_2020.html\").text\n",
    "    bs = BeautifulSoup(win_html)\n",
    "    tbls = bs.find_all('table')\n",
    "    east = tbls[0]\n",
    "    west = tbls[1]\n",
    "\n",
    "    for row in east.find_all('tr'):\n",
    "        head = row.find_all('th')\n",
    "        data = row.find_all('td')\n",
    "        if (len(data) > 0):\n",
    "            team_name = team_abbr[head[0].text.replace('*', '')]\n",
    "            win_perc = float(data[2].text)\n",
    "            team_wins[team_name] = win_perc\n",
    "\n",
    "    for row in west.find_all('tr'):\n",
    "        head = row.find_all('th')\n",
    "        data = row.find_all('td')\n",
    "        if (len(data) > 0):\n",
    "            team_name = team_abbr[head[0].text.replace('*', '')]\n",
    "            win_perc = float(data[2].text)\n",
    "            team_wins[team_name] = win_perc\n",
    "    \n",
    "    wins[year] = team_wins\n",
    "    "
   ]
  },
  {
   "cell_type": "code",
   "execution_count": null,
   "metadata": {},
   "outputs": [],
   "source": [
    "# Function for getting player team win pct from an nba_df row\n",
    "def get_team_pct(year, row):\n",
    "    if team == 'TOT'\n",
    "    return wins[year][row['Tm']]"
   ]
  },
  {
   "cell_type": "code",
   "execution_count": 14,
   "metadata": {},
   "outputs": [
    {
     "name": "stdout",
     "output_type": "stream",
     "text": [
      "Scraping ASG 2000 data...\n",
      "Scraping ASG 2001 data...\n",
      "Scraping ASG 2002 data...\n",
      "Scraping ASG 2003 data...\n",
      "Scraping ASG 2004 data...\n",
      "Scraping ASG 2005 data...\n",
      "Scraping ASG 2006 data...\n",
      "Scraping ASG 2007 data...\n",
      "Scraping ASG 2008 data...\n",
      "Scraping ASG 2009 data...\n",
      "Scraping ASG 2010 data...\n",
      "Scraping ASG 2011 data...\n",
      "Scraping ASG 2012 data...\n",
      "Scraping ASG 2013 data...\n",
      "Scraping ASG 2014 data...\n",
      "Scraping ASG 2015 data...\n",
      "Scraping ASG 2016 data...\n",
      "Scraping ASG 2017 data...\n",
      "Scraping ASG 2018 data...\n",
      "Scraping ASG 2019 data...\n",
      "Scraping ASG 2020 data...\n"
     ]
    }
   ],
   "source": [
    "# borrowed from medium post https://towardsdatascience.com/using-machine-learning-to-predict-nba-all-stars-part-1-data-collection-9fb94d386530\n",
    "# i changed the way that data was collected mapping year -> all star instead of the other way around\n",
    "# this dictionary will map year to players in all star game\n",
    "# selected for an all-star game, either initially or as a replacement\n",
    "all_star_appearances = defaultdict(list)\n",
    "\n",
    "# rows to ignore when iterating the roster tables\n",
    "ignore_fields = set(['Team Totals', 'Reserves'])\n",
    "\n",
    "START_YEAR, END_YEAR = 2000, 2021\n",
    "\n",
    "# unidecode doesn't catch the accented c in Peja's last name (Stojakovic), fix it\n",
    "# also overwrite any instance of Metta World Peace to Ron Artest\n",
    "def fix_name(full_name):\n",
    "    first_name = full_name.split(' ')[0]\n",
    "    if first_name == 'Peja':\n",
    "        return 'Peja Stojakovic'\n",
    "    elif first_name == 'Metta':\n",
    "        return 'Ron Artest'\n",
    "    else:\n",
    "        return unidecode(full_name)\n",
    "\n",
    "for year in range(START_YEAR, END_YEAR):\n",
    "\n",
    "    # no ASG played in 1|999 because of the lockout\n",
    "    if year == 1999:\n",
    "        continue\n",
    "\n",
    "    print('Scraping ASG {} data...'.format(year))\n",
    "\n",
    "    # will store all the all-stars for this year\n",
    "    all_stars = set([])\n",
    "\n",
    "    html = requests.get('https://www.basketball-reference.com/allstar/NBA_{}.html'.format(year)).content\n",
    "    soup = BeautifulSoup(html, 'html.parser')\n",
    "\n",
    "    # this part was annoying - back when ASG was always East vs. West, the tables \n",
    "    # were encoded with id=\"East\"/id=\"West\" so they could be extracted more easily/reliably\n",
    "    # but now, you have games like Giannis vs. LeBron and the table id's are different, so I \n",
    "    # had to extract them by index, which is unreliable in the event that the site's design \n",
    "    # changes in the future\n",
    "\n",
    "    # gets rosters for team 1 and team 2\n",
    "    s1, s2 = soup.findAll('table')[1:3]\n",
    "\n",
    "    df1 = pd.read_html(str(s1))[0]\n",
    "    df2 = pd.read_html(str(s2))[0]\n",
    "\n",
    "    # get the all-stars from teams 1 and 2\n",
    "    for df in [df1, df2]:\n",
    "        for i, row in df.iterrows():\n",
    "            if pd.notnull(row[0]) and row[0] not in ignore_fields:\n",
    "                player = row[0]\n",
    "                all_stars.add(fix_name(player))\n",
    "\n",
    "    # gets all li elements in the page\n",
    "    s3 = soup.findAll('li') \n",
    "\n",
    "    # finds the li element that contains the data pertaining to injury related selections \n",
    "    # - players who were selected but couldn't participate due to injury,\n",
    "    # and their respective replacements\n",
    "    #\n",
    "    # since all_stars is a hashset, we don't need to worry about accidentally double counting an all-star\n",
    "    for s in s3:\n",
    "        if 'Did not play' in str(s):\n",
    "            for player in [name.get_text() for name in s.findAll('a')]: # all the injured players and their replacements\n",
    "                all_stars.add(fix_name(player))\n",
    "            break\n",
    "\n",
    "    # update the appearances dictionary\n",
    "    for player in all_stars:\n",
    "        all_star_appearances[year].append(player)\n",
    "\n"
   ]
  },
  {
   "cell_type": "code",
   "execution_count": null,
   "metadata": {},
   "outputs": [],
   "source": [
    "all_star_appearances[2020]"
   ]
  },
  {
   "cell_type": "code",
   "execution_count": 12,
   "metadata": {},
   "outputs": [],
   "source": [
    "\n",
    "def get_nba_df(year):\n",
    "    df = pd.read_html(\"https://www.basketball-reference.com/leagues/NBA_\"+str(year)+\"_per_game.html\")[0]\n",
    "\n",
    "    adv_df = pd.read_html(\"https://www.basketball-reference.com/leagues/NBA_\"+str(year)+\"_advanced.html\")[0]\n",
    "    df = df.combine_first(adv_df)\n",
    "    df = df.astype('string')\n",
    "    is_tot = df['Tm']=='TOT'\n",
    "    traded_players = df[is_tot]['Player']\n",
    "    # dont record half-seasons of traded players, only total seasons (\"TOT\")\n",
    "    \n",
    "\n",
    "    df = df.query('not (Player in @traded_players & Tm != \"TOT\")')\n",
    "    df.fillna(\"0\", inplace=True)\n",
    "    df.replace(r'^\\s*$', \"0\", regex=True, inplace=True)\n",
    "    # filter out header values\n",
    "    df = df[(df['2P'] != \"2P\")]\n",
    "    df = df[(df['PF'] != \"PF\")]\n",
    "    df = df.astype({'Pos': 'string', '2P': 'float', '2PA': 'float', '3P': 'float', '3P%': 'float', '3PA': 'float', '3PAr': 'float', 'AST': 'float',\n",
    "                    'AST%': 'float', 'Age': 'int', 'BLK': 'float', 'BLK%': 'float', 'BPM': 'float', 'DBPM': 'float', \n",
    "                    'DRB': 'float', 'DRB%': 'float', 'DWS': 'float', 'FG': 'float', 'FG%': 'float', 'FGA': 'float',\n",
    "                    'FT': 'float', 'FT%': 'float', 'FTA': 'float', 'FTr': 'float', 'G': 'int', 'GS': 'int', 'MP': 'float', \n",
    "                    'OBPM': 'float', 'ORB': 'float', 'ORB%': 'float', 'OWS': 'float', 'PER': 'float', 'PF': 'float', 'PTS': 'float','Rk': 'float', 'STL': 'float', 'STL%': 'float', 'TOV': 'float', 'TOV%': 'float', \n",
    "                    'TRB': 'float', 'TRB%': 'float', 'TS%': 'float', 'USG%': 'float', 'WS': 'float', 'eFG%': 'float', 'VORP': 'float'})\n",
    "    df['Player'] = df['Player'].apply(fix_name)\n",
    "    return df"
   ]
  },
  {
   "cell_type": "code",
   "execution_count": null,
   "metadata": {},
   "outputs": [],
   "source": [
    "\n",
    "\n",
    "year_dfs = []\n",
    "for year in range(2000, 2021):\n",
    "    df = get_nba_df(year)\n",
    "    # Add all star field\n",
    "    as_data = []\n",
    "\n",
    "    for player in all_star_appearances[year]:\n",
    "        as_data.append([player, True])\n",
    "        \n",
    "        \n",
    "    as_df = pd.DataFrame(as_data, columns=['Player', 'All_Star'])\n",
    "    df = pd.merge(df, as_df, left_on='Player', right_on='Player', how='left')\n",
    "    df = df.astype({'All_Star': 'boolean'})\n",
    "    df['All_Star'] = df['All_Star'].fillna(False)\n",
    "    \n",
    "    \n",
    "    year_dfs.append(df)\n",
    "    \n",
    "\n"
   ]
  },
  {
   "cell_type": "code",
   "execution_count": null,
   "metadata": {},
   "outputs": [],
   "source": [
    "#Get final data by concatenating all years\n",
    "final = pd.concat(year_dfs)\n",
    "final.reset_index(drop=True)\n",
    "# Save final data\n",
    "final.to_csv('data/All_Star_Data.csv')"
   ]
  },
  {
   "cell_type": "code",
   "execution_count": 3,
   "metadata": {},
   "outputs": [],
   "source": [
    "#Read from csv if necessary\n",
    "final = pd.read_csv('data/All_Star_Data.csv')"
   ]
  },
  {
   "cell_type": "markdown",
   "metadata": {},
   "source": [
    "## Generate Models"
   ]
  },
  {
   "cell_type": "markdown",
   "metadata": {},
   "source": [
    "## Analysis of Predictors"
   ]
  },
  {
   "cell_type": "code",
   "execution_count": 4,
   "metadata": {},
   "outputs": [
    {
     "data": {
      "image/png": "[encoded data removed]",
      "text/plain": [
       "<Figure size 576x432 with 2 Axes>"
      ]
     },
     "metadata": {
      "needs_background": "light"
     },
     "output_type": "display_data"
    },
    {
     "data": {
      "image/png": "[encoded data removed]",
      "text/plain": [
       "<Figure size 576x432 with 2 Axes>"
      ]
     },
     "metadata": {
      "needs_background": "light"
     },
     "output_type": "display_data"
    }
   ],
   "source": [
    "\n",
    "# Choosing to separate percentages and per games here for some stats due to high degree of correlation\n",
    "\n",
    "\n",
    "stats_pct = ['3P%', 'AST%', 'Age', 'BLK%', 'eFG%', 'FT%', \n",
    "                    'G', 'PTS', 'STL%', 'DBPM', 'OBPM',\n",
    "                    'ORB%', 'DRB%', 'USG%', 'TOV%']\n",
    "# and the per game numbers\n",
    "stats_pg = ['3P%', 'AST', 'Age', 'BLK', 'eFG%', 'FT%', \n",
    "                    'G',  'PTS', 'STL', 'DBPM', \n",
    "                  'OBPM', 'ORB', 'DRB', 'PF',  'USG%', 'TOV', 'FTr']\n",
    "x = final[stats_pct]\n",
    "y = final['All_Star']\n",
    "y = np.asarray(y,dtype=np.bool)\n",
    "x_train, x_test, y_train, y_test = train_test_split(x, y, test_size = 0.4)\n",
    "\n",
    "x_pg = final[stats_pg]\n",
    "x_pg_train, x_pg_test, y_pg_train, y_pg_test = train_test_split(x_pg, y, test_size=0.4)\n",
    "\n",
    "# Check predictor correlation \n",
    "cor = x_train.corr(method='pearson')\n",
    "ig, ax = plt.subplots(figsize=(8, 6))\n",
    "plt.title(\"Correlation Plot\")\n",
    "sns.heatmap(cor, mask=np.zeros_like(cor, dtype=np.bool), cmap=sns.diverging_palette(220, 10, as_cmap=True),\n",
    "            square=True, ax=ax)\n",
    "plt.show()\n",
    "\n",
    "# Check PG predictor correlation\n",
    "cor = x_pg_train.corr(method='pearson')\n",
    "ig, ax = plt.subplots(figsize=(8, 6))\n",
    "plt.title(\"Correlation Plot\")\n",
    "sns.heatmap(cor, mask=np.zeros_like(cor, dtype=np.bool), cmap=sns.diverging_palette(220, 10, as_cmap=True),\n",
    "            square=True, ax=ax)\n",
    "plt.show()"
   ]
  },
  {
   "cell_type": "code",
   "execution_count": null,
   "metadata": {},
   "outputs": [],
   "source": [
    "# Different sampling techniques to attempt to correct for the imbalance in all stars vs non all stars\n",
    "fs = 0\n",
    "ts = 0\n",
    "for y in y_train:\n",
    "    if y:\n",
    "        ts += 1\n",
    "    else:\n",
    "        fs += 1\n",
    "        \n",
    "print(\"all star to non all star ratio:\" + str(ts/fs))\n",
    "sm = RandomUnderSampler(sampling_strategy=0.25)\n",
    "x_train, y_train = sm.fit_resample(x_train, y_train)\n",
    "x_pg_train, y_pg_train = sm.fit_resample(x_pg_train, y_pg_train)\n",
    "fs = 0\n",
    "ts = 0\n",
    "for y in y_train:\n",
    "    if y:\n",
    "        ts += 1\n",
    "    else:\n",
    "        fs += 1\n",
    "        \n",
    "print(\"all star to non all star ratio:\" + str(ts/fs))"
   ]
  },
  {
   "cell_type": "code",
   "execution_count": null,
   "metadata": {},
   "outputs": [],
   "source": [
    "fs = 0\n",
    "ts = 0\n",
    "for y in y_train:\n",
    "    if y:\n",
    "        ts += 1\n",
    "    else:\n",
    "        fs += 1\n",
    "        \n",
    "print(\"all star to non all star ratio:\" + str(ts/fs))\n",
    "\n",
    "os = SMOTE(sampling_strategy=1)\n",
    "x_train, y_train = os.fit_resample(x_train, y_train)\n",
    "x_pg_train, y_pg_train = os.fit_resample(x_pg_train, y_pg_train)\n",
    "\n",
    "fs = 0\n",
    "ts = 0\n",
    "for y in y_train:\n",
    "    if y:\n",
    "        ts += 1\n",
    "    else:\n",
    "        fs += 1\n",
    "        \n",
    "print(\"all star to non all star ratio:\" + str(ts/fs))"
   ]
  },
  {
   "cell_type": "code",
   "execution_count": null,
   "metadata": {},
   "outputs": [],
   "source": [
    "# best params found so far for linear regression from GridSearchCV\n",
    "best_params = {'C': 10, 'class_weight': {0: 0.37311557788944727, 1: 0.6268844221105527}}"
   ]
  },
  {
   "cell_type": "markdown",
   "metadata": {},
   "source": [
    "## Logistic Regression"
   ]
  },
  {
   "cell_type": "code",
   "execution_count": 5,
   "metadata": {},
   "outputs": [
    {
     "name": "stdout",
     "output_type": "stream",
     "text": [
      "              precision    recall  f1-score   support\n",
      "\n",
      "       False       0.97      0.99      0.98      3773\n",
      "        True       0.59      0.40      0.48       164\n",
      "\n",
      "    accuracy                           0.96      3937\n",
      "   macro avg       0.78      0.70      0.73      3937\n",
      "weighted avg       0.96      0.96      0.96      3937\n",
      "\n",
      "              precision    recall  f1-score   support\n",
      "\n",
      "       False       0.97      0.99      0.98      3738\n",
      "        True       0.71      0.39      0.50       199\n",
      "\n",
      "    accuracy                           0.96      3937\n",
      "   macro avg       0.84      0.69      0.74      3937\n",
      "weighted avg       0.96      0.96      0.96      3937\n",
      "\n"
     ]
    }
   ],
   "source": [
    "logisticRegr = LogisticRegression(max_iter=100000)\n",
    "logisticRegr.fit(x_train, y_train)\n",
    "predict = logisticRegr.predict(x_test)\n",
    "print(classification_report(y_test, predict))\n",
    "\n",
    "models.append([\"LogisticRegression_Pct\", logisticRegr])\n",
    "\n",
    "# per game stats version\n",
    "logisticRegr = LogisticRegression(max_iter=100000)\n",
    "logisticRegr.fit(x_pg_train, y_pg_train)\n",
    "predict = logisticRegr.predict(x_pg_test)\n",
    "print(classification_report(y_pg_test, predict))\n",
    "\n",
    "models.append([\"LogisticRegression_PG\", logisticRegr])"
   ]
  },
  {
   "cell_type": "markdown",
   "metadata": {},
   "source": [
    "## Decision Tree"
   ]
  },
  {
   "cell_type": "code",
   "execution_count": 6,
   "metadata": {},
   "outputs": [
    {
     "name": "stdout",
     "output_type": "stream",
     "text": [
      "              precision    recall  f1-score   support\n",
      "\n",
      "       False       0.98      0.97      0.98      3773\n",
      "        True       0.47      0.57      0.52       164\n",
      "\n",
      "    accuracy                           0.96      3937\n",
      "   macro avg       0.73      0.77      0.75      3937\n",
      "weighted avg       0.96      0.96      0.96      3937\n",
      "\n",
      "              precision    recall  f1-score   support\n",
      "\n",
      "       False       0.97      0.98      0.98      3738\n",
      "        True       0.59      0.52      0.56       199\n",
      "\n",
      "    accuracy                           0.96      3937\n",
      "   macro avg       0.78      0.75      0.77      3937\n",
      "weighted avg       0.96      0.96      0.96      3937\n",
      "\n"
     ]
    }
   ],
   "source": [
    "tc = tree.DecisionTreeClassifier()\n",
    "tc.fit(x_train, y_train)\n",
    "predict = tc.predict(x_test)\n",
    "print(classification_report(y_test, predict))\n",
    "\n",
    "models.append([\"DecisionTree_Pct\", tc])\n",
    "\n",
    "tc = tree.DecisionTreeClassifier()\n",
    "tc.fit(x_pg_train, y_pg_train)\n",
    "predict = tc.predict(x_pg_test)\n",
    "print(classification_report(y_pg_test, predict))\n",
    "models.append([\"DecisionTree_PG\", tc])"
   ]
  },
  {
   "cell_type": "markdown",
   "metadata": {},
   "source": [
    "## Random Forest"
   ]
  },
  {
   "cell_type": "code",
   "execution_count": 7,
   "metadata": {},
   "outputs": [
    {
     "name": "stdout",
     "output_type": "stream",
     "text": [
      "              precision    recall  f1-score   support\n",
      "\n",
      "       False       0.98      0.99      0.99      3773\n",
      "        True       0.72      0.54      0.61       164\n",
      "\n",
      "    accuracy                           0.97      3937\n",
      "   macro avg       0.85      0.76      0.80      3937\n",
      "weighted avg       0.97      0.97      0.97      3937\n",
      "\n",
      "              precision    recall  f1-score   support\n",
      "\n",
      "       False       0.97      0.99      0.98      3738\n",
      "        True       0.75      0.44      0.55       199\n",
      "\n",
      "    accuracy                           0.96      3937\n",
      "   macro avg       0.86      0.71      0.77      3937\n",
      "weighted avg       0.96      0.96      0.96      3937\n",
      "\n"
     ]
    }
   ],
   "source": [
    "# Parameters obtained from tuning\n",
    "forest = RandomForestClassifier()\n",
    "forest.fit(x_train, y_train)\n",
    "predict = forest.predict(x_test)\n",
    "print(classification_report(y_test, predict))\n",
    "models.append([\"RandomForest_Pct\", forest])\n",
    "\n",
    "forest = RandomForestClassifier()\n",
    "forest.fit(x_pg_train, y_pg_train)\n",
    "predict = forest.predict(x_pg_test)\n",
    "print(classification_report(y_pg_test, predict))\n",
    "models.append([\"RandomForest_PG\", forest])\n",
    "\n"
   ]
  },
  {
   "cell_type": "code",
   "execution_count": null,
   "metadata": {},
   "outputs": [],
   "source": [
    "# Tuning for RF model. I did this from some random article on towardsdatascience.com so thanks for that\n",
    "# https://towardsdatascience.com/hyperparameter-tuning-the-random-forest-in-python-using-scikit-learn-28d2aa77dd74\n",
    "print(forest.get_params())\n",
    "\n",
    "# Number of trees in random forest\n",
    "n_estimators = [int(x) for x in np.linspace(start = 200, stop = 2000, num = 10)]\n",
    "# Number of features to consider at every split\n",
    "max_features = ['auto', 'sqrt']\n",
    "# Maximum number of levels in tree\n",
    "max_depth = [int(x) for x in np.linspace(10, 110, num = 11)]\n",
    "max_depth.append(None)\n",
    "# Minimum number of samples required to split a node\n",
    "min_samples_split = [2, 5, 10]\n",
    "# Minimum number of samples required at each leaf node\n",
    "min_samples_leaf = [1, 2, 4]\n",
    "# Method of selecting samples for training each tree\n",
    "bootstrap = [True, False]\n",
    "\n",
    "random_grid = {'n_estimators': n_estimators,\n",
    "               'max_features': max_features,\n",
    "               'max_depth': max_depth,\n",
    "               'min_samples_split': min_samples_split,\n",
    "               'min_samples_leaf': min_samples_leaf,\n",
    "               'bootstrap': bootstrap}\n",
    "\n",
    "\n",
    "#rf_random = RandomizedSearchCV(estimator = forest, \n",
    "                               #param_distributions = random_grid, \n",
    "                              # n_iter = 20, cv = 3, verbose=2, random_state=42, n_jobs = 2)\n",
    "#rf_random.fit(x_train, y_train)\n",
    "#print(\"pct params\")\n",
    "#rf_random.best_params_\n",
    "\n",
    "print(\"pg params\")\n",
    "rf_random = RandomizedSearchCV(estimator = forest, param_distributions = random_grid, \n",
    "                               n_iter = 100, cv = 3, verbose=2, random_state=42, n_jobs = 2)\n",
    "rf_random.fit(x_pg_train, y_pg_train)\n"
   ]
  },
  {
   "cell_type": "code",
   "execution_count": null,
   "metadata": {},
   "outputs": [],
   "source": [
    "rf_random.best_params_"
   ]
  },
  {
   "cell_type": "markdown",
   "metadata": {},
   "source": [
    "##  Multi-Layer Perception Classifier (not my little pony)"
   ]
  },
  {
   "cell_type": "code",
   "execution_count": 8,
   "metadata": {},
   "outputs": [
    {
     "name": "stdout",
     "output_type": "stream",
     "text": [
      "              precision    recall  f1-score   support\n",
      "\n",
      "       False       0.98      0.98      0.98      3773\n",
      "        True       0.59      0.63      0.61       164\n",
      "\n",
      "    accuracy                           0.97      3937\n",
      "   macro avg       0.79      0.80      0.80      3937\n",
      "weighted avg       0.97      0.97      0.97      3937\n",
      "\n",
      "              precision    recall  f1-score   support\n",
      "\n",
      "       False       0.97      0.99      0.98      3738\n",
      "        True       0.69      0.42      0.53       199\n",
      "\n",
      "    accuracy                           0.96      3937\n",
      "   macro avg       0.83      0.71      0.75      3937\n",
      "weighted avg       0.96      0.96      0.96      3937\n",
      "\n"
     ]
    }
   ],
   "source": [
    "mlpc = MLPClassifier()\n",
    "mlpc.fit(x_train, y_train)\n",
    "predict = mlpc.predict(x_test)\n",
    "print(classification_report(y_test, predict))\n",
    "\n",
    "models.append([\"MLPC_Pct\", mlpc])\n",
    "\n",
    "\n",
    "mlpc = MLPClassifier()\n",
    "mlpc.fit(x_pg_train, y_pg_train)\n",
    "predict = mlpc.predict(x_pg_test)\n",
    "print(classification_report(y_pg_test, predict))\n",
    "\n",
    "models.append([\"MLPC_PG\", mlpc])"
   ]
  },
  {
   "cell_type": "code",
   "execution_count": null,
   "metadata": {},
   "outputs": [],
   "source": []
  },
  {
   "cell_type": "markdown",
   "metadata": {},
   "source": [
    "## Support Vector Machine"
   ]
  },
  {
   "cell_type": "code",
   "execution_count": null,
   "metadata": {},
   "outputs": [],
   "source": [
    "s = svm.SVC()\n",
    "s.fit(x_train, y_train)\n",
    "predict = s.predict(x_test)\n",
    "print(classification_report(y_test, predict))\n",
    "models.append([\"SVM_Pct\", s])\n",
    "\n",
    "s = svm.SVC()\n",
    "s.fit(x_pg_train, y_pg_train)\n",
    "predict = s.predict(x_pg_test)\n",
    "print(classification_report(y_pg_test, predict))\n",
    "models.append([\"SVM_PG\", s])\n"
   ]
  },
  {
   "cell_type": "markdown",
   "metadata": {},
   "source": [
    "## Download Data for 2021 and make predictions"
   ]
  },
  {
   "cell_type": "code",
   "execution_count": 15,
   "metadata": {},
   "outputs": [
    {
     "name": "stderr",
     "output_type": "stream",
     "text": [
      "C:\\ProgramData\\Anaconda3\\lib\\site-packages\\pandas\\core\\frame.py:4317: SettingWithCopyWarning: \n",
      "A value is trying to be set on a copy of a slice from a DataFrame\n",
      "\n",
      "See the caveats in the documentation: https://pandas.pydata.org/pandas-docs/stable/user_guide/indexing.html#returning-a-view-versus-a-copy\n",
      "  return super().fillna(\n",
      "C:\\ProgramData\\Anaconda3\\lib\\site-packages\\pandas\\core\\frame.py:4379: SettingWithCopyWarning: \n",
      "A value is trying to be set on a copy of a slice from a DataFrame\n",
      "\n",
      "See the caveats in the documentation: https://pandas.pydata.org/pandas-docs/stable/user_guide/indexing.html#returning-a-view-versus-a-copy\n",
      "  return super().replace(\n"
     ]
    }
   ],
   "source": [
    "df = get_nba_df(2021)\n",
    "pred_2021_pct = df[stats_pct]\n",
    "pred_2021_pg = df[stats_pg]\n",
    "player_2021 = df['Player']\n",
    "player_2021 = player_2021.to_frame()"
   ]
  },
  {
   "cell_type": "code",
   "execution_count": null,
   "metadata": {},
   "outputs": [],
   "source": [
    "df"
   ]
  },
  {
   "cell_type": "code",
   "execution_count": 16,
   "metadata": {},
   "outputs": [],
   "source": [
    "\n",
    "for model in models:\n",
    "    predictions = []\n",
    "    if \"Pct\" in model[0]:\n",
    "        predictions = model[1].predict(pred_2021_pct)\n",
    "    else:\n",
    "        predictions = model[1].predict(pred_2021_pg)\n",
    "    player_2021['All_Star_Prediction'] = predictions\n",
    "    player_2021[player_2021['All_Star_Prediction'] == True].to_csv('predictions/'+model[0]+'_All_Star_Predictions.csv')"
   ]
  },
  {
   "cell_type": "code",
   "execution_count": null,
   "metadata": {},
   "outputs": [],
   "source": []
  }
 ],
 "metadata": {
  "kernelspec": {
   "display_name": "Python 3",
   "language": "python",
   "name": "python3"
  },
  "language_info": {
   "codemirror_mode": {
    "name": "ipython",
    "version": 3
   },
   "file_extension": ".py",
   "mimetype": "text/x-python",
   "name": "python",
   "nbconvert_exporter": "python",
   "pygments_lexer": "ipython3",
   "version": "3.8.5"
  }
 },
 "nbformat": 4,
 "nbformat_minor": 4
}
